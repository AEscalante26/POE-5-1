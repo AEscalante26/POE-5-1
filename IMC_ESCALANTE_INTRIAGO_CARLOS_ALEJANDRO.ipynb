{
  "nbformat": 4,
  "nbformat_minor": 0,
  "metadata": {
    "colab": {
      "name": "IMC- ESCALANTE INTRIAGO CARLOS ALEJANDRO",
      "provenance": [],
      "authorship_tag": "ABX9TyOnwGa2I5VyA8fjRvF8oiLZ",
      "include_colab_link": true
    },
    "kernelspec": {
      "name": "python3",
      "display_name": "Python 3"
    },
    "language_info": {
      "name": "python"
    }
  },
  "cells": [
    {
      "cell_type": "markdown",
      "metadata": {
        "id": "view-in-github",
        "colab_type": "text"
      },
      "source": [
        "<a href=\"https://colab.research.google.com/github/AEscalante26/POE-5-1/blob/main/IMC_ESCALANTE_INTRIAGO_CARLOS_ALEJANDRO.ipynb\" target=\"_parent\"><img src=\"https://colab.research.google.com/assets/colab-badge.svg\" alt=\"Open In Colab\"/></a>"
      ]
    },
    {
      "cell_type": "code",
      "execution_count": 1,
      "metadata": {
        "colab": {
          "base_uri": "https://localhost:8080/"
        },
        "cellView": "form",
        "id": "cUBDqwx92-G6",
        "outputId": "e1713e82-5927-4699-ac3d-27a0d189f8f2"
      },
      "outputs": [
        {
          "output_type": "stream",
          "name": "stdout",
          "text": [
            "Índice de masa corporal 44.11764705882353\n"
          ]
        }
      ],
      "source": [
        "\n",
        "#@title Cálculo índice de masa corporal\n",
        "Masa =  75#@param {type:\"number\"}\n",
        "Estatura =  1.7#@param {type:\"number\"}\n",
        "print (\"Índice de masa corporal\", Masa/Estatura)"
      ]
    }
  ]
}